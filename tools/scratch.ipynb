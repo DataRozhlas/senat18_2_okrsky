{
 "cells": [
  {
   "cell_type": "code",
   "execution_count": 25,
   "metadata": {},
   "outputs": [
    {
     "data": {
      "text/plain": [
       "'[{\\'id\\': 1, \\'hlasy\\': 1}, {\\'id\\': 2, \\'hlasy\\': 4}, {\\'id\\': 3, \\'hlasy\\': 8}, {\\'id\\': 4, \\'hlasy\\': 1}, {\\'id\\': 5, \\'hlasy\\': 1}, {\\'id\\': 6, \\'hlasy\\': 6}, {\\'id\\': 7, \\'hlasy\\': 7}, {\\'id\\': 8, \\'hlasy\\': 13}]'"
      ]
     },
     "execution_count": 25,
     "metadata": {},
     "output_type": "execute_result"
    }
   ],
   "source": [
    "a = \"[{'id': 1, 'hlasy': 1}, {'id': 2, 'hlasy': 4}, {'id': 3, 'hlasy': 8}, {'id': 4, 'hlasy': 1}, {'id': 5, 'hlasy': 1}, {'id': 6, 'hlasy': 6}, {'id': 7, 'hlasy': 7}, {'id': 8, 'hlasy': 13}]\""
   ]
  },
  {
   "cell_type": "code",
   "execution_count": 22,
   "metadata": {},
   "outputs": [
    {
     "data": {
      "text/plain": [
       "'[{\"id\": 1, \"hlasy\": 1}, {\"id\": 2, \"hlasy\": 4}, {\"id\": 3, \"hlasy\": 8}, {\"id\": 4, \"hlasy\": 1}, {\"id\": 5, \"hlasy\": 1}, {\"id\": 6, \"hlasy\": 6}, {\"id\": 7, \"hlasy\": 7}, {\"id\": 8, \"hlasy\": 13}]'"
      ]
     },
     "execution_count": 22,
     "metadata": {},
     "output_type": "execute_result"
    }
   ],
   "source": [
    "a = a.replace(/\\'/g, '\"');"
   ]
  },
  {
   "cell_type": "code",
   "execution_count": 24,
   "metadata": {},
   "outputs": [
    {
     "data": {
      "text/plain": [
       "[ { id: 8, hlasy: 13 },\n",
       "  { id: 3, hlasy: 8 },\n",
       "  { id: 7, hlasy: 7 },\n",
       "  { id: 6, hlasy: 6 },\n",
       "  { id: 2, hlasy: 4 },\n",
       "  { id: 1, hlasy: 1 },\n",
       "  { id: 4, hlasy: 1 },\n",
       "  { id: 5, hlasy: 1 } ]"
      ]
     },
     "execution_count": 24,
     "metadata": {},
     "output_type": "execute_result"
    }
   ],
   "source": [
    "JSON.parse(a).sort(function(a, b){\n",
    "    return b.hlasy - a.hlasy\n",
    "})"
   ]
  }
 ],
 "metadata": {
  "kernelspec": {
   "display_name": "Javascript (Node.js)",
   "language": "javascript",
   "name": "javascript"
  },
  "language_info": {
   "file_extension": ".js",
   "mimetype": "application/javascript",
   "name": "javascript",
   "version": "9.8.0"
  }
 },
 "nbformat": 4,
 "nbformat_minor": 2
}
