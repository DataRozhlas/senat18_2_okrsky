{
 "cells": [
  {
   "cell_type": "code",
   "execution_count": 1,
   "metadata": {},
   "outputs": [],
   "source": [
    "import pandas as pd\n",
    "import json\n",
    "import numpy as np\n",
    "import jenks\n",
    "import copy"
   ]
  },
  {
   "cell_type": "code",
   "execution_count": 2,
   "metadata": {},
   "outputs": [],
   "source": [
    "momc = pd.read_csv('../scratch/momc_meta.csv').set_index('Kod').to_dict(orient='index')\n",
    "ob = pd.read_csv('../scratch/obce_meta.csv').set_index('Kod').to_dict(orient='index')\n",
    "okr = pd.read_csv('../scratch/okres_meta.csv').set_index('Kod').to_dict(orient='index')"
   ]
  },
  {
   "cell_type": "code",
   "execution_count": 3,
   "metadata": {},
   "outputs": [],
   "source": [
    "with open('../scratch/okrsky.geojson', encoding='utf-8') as f:\n",
    "    jsn = json.load(f)"
   ]
  },
  {
   "cell_type": "code",
   "execution_count": 4,
   "metadata": {},
   "outputs": [],
   "source": [
    "kill = ['fid', 'gml_id', 'Kod', 'Nespravny', 'ObecKod', 'MomcKod', 'Poznamka', 'PlatiOd', 'PlatiDo', 'IdTransakce', 'GlobalniIdNavrhuZmeny']\n",
    "mcmo_dump = []\n",
    "for f in jsn['features']:\n",
    "    f['properties']['Obec'] = ob[f['properties']['ObecKod']]['Nazev']\n",
    "    f['properties']['Okres'] = okr[ob[f['properties']['ObecKod']]['OkresKod']]['Nazev']\n",
    "    f['properties']['Momc'] = None\n",
    "    f['properties']['isMomc'] = False\n",
    "    f['properties']['okid'] = str(f['properties']['ObecKod']) + '_' + str(f['properties']['Cislo'])\n",
    "    \n",
    "    if f['properties']['MomcKod'] is not None:\n",
    "        f['properties']['Momc'] = momc[f['properties']['MomcKod']]['Nazev']\n",
    "        n = copy.deepcopy(f)\n",
    "        n['properties']['isMomc'] = True\n",
    "        n['properties']['okid'] = str(f['properties']['MomcKod']) + '_' + str(f['properties']['Cislo'])\n",
    "        \n",
    "        for k in kill:\n",
    "            if k in n['properties']:\n",
    "                del n['properties'][k]\n",
    "        \n",
    "        mcmo_dump.append(n)\n",
    "\n",
    "    for k in kill:\n",
    "        if k in f['properties']:\n",
    "            del f['properties'][k]\n",
    "            \n",
    "jsn['features'].extend(mcmo_dump)"
   ]
  },
  {
   "cell_type": "code",
   "execution_count": 5,
   "metadata": {},
   "outputs": [],
   "source": [
    "okrs = pd.read_csv('../scratch/okrsky_cisla.csv')"
   ]
  },
  {
   "cell_type": "code",
   "execution_count": 6,
   "metadata": {},
   "outputs": [
    {
     "data": {
      "text/plain": [
       "Index(['CIS_OBEC', 'CIS_OBVOD', 'CIS_OKRSEK', 'DATUM_CAS_ZPRAC',\n",
       "       'ODEVZDANE_OBALKY', 'OPAKOVANE', 'PLATNE_HLASY', 'PORADI_ZPRAC',\n",
       "       'VYDANE_OBALKY', 'ZAPSANI_VOLICI', 'result'],\n",
       "      dtype='object')"
      ]
     },
     "execution_count": 6,
     "metadata": {},
     "output_type": "execute_result"
    }
   ],
   "source": [
    "okrs.columns"
   ]
  },
  {
   "cell_type": "code",
   "execution_count": 7,
   "metadata": {},
   "outputs": [],
   "source": [
    "okrs['okid'] = okrs.CIS_OBEC.astype('str') + '_' + okrs.CIS_OKRSEK.astype('str')"
   ]
  },
  {
   "cell_type": "code",
   "execution_count": 8,
   "metadata": {},
   "outputs": [],
   "source": [
    "cls = ['CIS_OBEC', 'CIS_OKRSEK', 'DATUM_CAS_ZPRAC', 'OPAKOVANE', 'PORADI_ZPRAC']\n",
    "okrs.drop(cls, inplace=True, axis=1)"
   ]
  },
  {
   "cell_type": "code",
   "execution_count": 9,
   "metadata": {},
   "outputs": [],
   "source": [
    "okrs = okrs.set_index('okid').to_dict(orient='index')"
   ]
  },
  {
   "cell_type": "code",
   "execution_count": 10,
   "metadata": {},
   "outputs": [],
   "source": [
    "for fe in jsn['features']:\n",
    "    if fe['properties']['okid'] in okrs:\n",
    "        fe['properties'].update(okrs[fe['properties']['okid']])\n",
    "    else:\n",
    "        pass\n",
    "        #print(fe['properties']['okid'])"
   ]
  },
  {
   "cell_type": "code",
   "execution_count": 11,
   "metadata": {},
   "outputs": [],
   "source": [
    "jsn['features'] = list(filter(lambda x: 'ZAPSANI_VOLICI' in x['properties'], jsn['features']))"
   ]
  },
  {
   "cell_type": "code",
   "execution_count": 12,
   "metadata": {},
   "outputs": [],
   "source": [
    "with open('../scratch/map.json', 'w', encoding='utf-8') as f:\n",
    "    f.write(json.dumps(jsn))"
   ]
  }
 ],
 "metadata": {
  "kernelspec": {
   "display_name": "Python 3",
   "language": "python",
   "name": "python3"
  },
  "language_info": {
   "codemirror_mode": {
    "name": "ipython",
    "version": 3
   },
   "file_extension": ".py",
   "mimetype": "text/x-python",
   "name": "python",
   "nbconvert_exporter": "python",
   "pygments_lexer": "ipython3",
   "version": "3.6.5"
  }
 },
 "nbformat": 4,
 "nbformat_minor": 2
}
