{
 "cells": [
  {
   "cell_type": "code",
   "execution_count": 53,
   "metadata": {},
   "outputs": [],
   "source": [
    "import pandas as pd\n",
    "import numpy as np\n",
    "import json"
   ]
  },
  {
   "cell_type": "code",
   "execution_count": 2,
   "metadata": {},
   "outputs": [],
   "source": [
    "serk = pd.read_csv('../scratch/serk.csv', encoding='windows-1250', sep=';')"
   ]
  },
  {
   "cell_type": "code",
   "execution_count": 8,
   "metadata": {},
   "outputs": [],
   "source": [
    "serk = serk[serk.ZVOLEN_K1 == 2]"
   ]
  },
  {
   "cell_type": "code",
   "execution_count": 9,
   "metadata": {},
   "outputs": [
    {
     "data": {
      "text/plain": [
       "Index(['OBVOD', 'CKAND', 'VSTRANA', 'JMENO', 'PRIJMENI', 'TITULPRED',\n",
       "       'TITULZA', 'VEK', 'POVOLANI', 'BYDLISTEN', 'BYDLISTEK', 'PSTRANA',\n",
       "       'NSTRANA', 'PLATNOST', 'HLASY_K1', 'PROC_K1', 'URIZ_PR_K1', 'ZVOLEN_K1',\n",
       "       'LOS_K1', 'HLASY_K2', 'PROC_K2', 'URIZ_PR_K2', 'ZVOLEN_K2', 'LOS_K2',\n",
       "       'NAZEV_VS'],\n",
       "      dtype='object')"
      ]
     },
     "execution_count": 9,
     "metadata": {},
     "output_type": "execute_result"
    }
   ],
   "source": [
    "serk.columns"
   ]
  },
  {
   "cell_type": "code",
   "execution_count": 12,
   "metadata": {},
   "outputs": [
    {
     "name": "stderr",
     "output_type": "stream",
     "text": [
      "c:\\program files\\python36\\lib\\site-packages\\ipykernel_launcher.py:1: SettingWithCopyWarning: \n",
      "A value is trying to be set on a copy of a slice from a DataFrame.\n",
      "Try using .loc[row_indexer,col_indexer] = value instead\n",
      "\n",
      "See the caveats in the documentation: http://pandas.pydata.org/pandas-docs/stable/indexing.html#indexing-view-versus-copy\n",
      "  \"\"\"Entry point for launching an IPython kernel.\n"
     ]
    }
   ],
   "source": [
    "serk['kid'] = serk.OBVOD.astype('str') + '_' + serk.CKAND.astype('str')"
   ]
  },
  {
   "cell_type": "code",
   "execution_count": 15,
   "metadata": {},
   "outputs": [],
   "source": [
    "serk.set_index('kid', inplace=True)"
   ]
  },
  {
   "cell_type": "code",
   "execution_count": 51,
   "metadata": {},
   "outputs": [
    {
     "data": {
      "text/plain": [
       "{166: 'STAROSTOVÉ A NEZÁVISLÍ',\n",
       " 768: 'ANO 2011',\n",
       " 1187: 'SENÁTOR 21',\n",
       " 53: 'Občanská demokratická strana',\n",
       " 7: 'Česká strana sociálně demokratická',\n",
       " 80: 'Nezávislý kandidát',\n",
       " 596: 'SPOJENI DŮVĚROU: HOPB, STAN, KDU-ČSL, TOP 09, ....',\n",
       " 1426: 'Piráti s podporou LES',\n",
       " 720: 'Česká pirátská strana',\n",
       " 659: 'TOP 09, Starostové a Nezávislí',\n",
       " 1408: 'Libor Michálek - senátor, který plní sliby\"\"',\n",
       " 1194: 'Marek Hilšer do Senátu\"\"',\n",
       " 1: 'Křesťan.a demokrat.unie-Českosl.strana lidová',\n",
       " 1306: 'Koalice ODS, STAN a STO',\n",
       " 1321: 'Mikuláš Bek, nezávislý kandidát za koalici ODS, ST',\n",
       " 594: 'Koalice KDU-ČSL a NV',\n",
       " 1329: 'Společně pro Opavsko: Koalice STAN, ODS a TOP 09',\n",
       " 755: 'Ostravak',\n",
       " 47: 'Komunistická strana Čech a Moravy',\n",
       " 716: 'Strana soukromníků České republiky'}"
      ]
     },
     "execution_count": 51,
     "metadata": {},
     "output_type": "execute_result"
    }
   ],
   "source": [
    "serk[['VSTRANA', 'NAZEV_VS']].drop_duplicates().set_index('VSTRANA').to_dict()['NAZEV_VS']"
   ]
  },
  {
   "cell_type": "code",
   "execution_count": 55,
   "metadata": {},
   "outputs": [],
   "source": [
    "out = serk[['JMENO', 'PRIJMENI', 'VEK', 'POVOLANI', 'VSTRANA']].to_dict(orient='index')\n",
    "with open('../js/kandidati.js', 'w', encoding='utf-8') as f:\n",
    "    f.write('var kandidati = ' + json.dumps(out) + ';')"
   ]
  }
 ],
 "metadata": {
  "kernelspec": {
   "display_name": "Python 3",
   "language": "python",
   "name": "python3"
  },
  "language_info": {
   "codemirror_mode": {
    "name": "ipython",
    "version": 3
   },
   "file_extension": ".py",
   "mimetype": "text/x-python",
   "name": "python",
   "nbconvert_exporter": "python",
   "pygments_lexer": "ipython3",
   "version": "3.6.5"
  }
 },
 "nbformat": 4,
 "nbformat_minor": 2
}
