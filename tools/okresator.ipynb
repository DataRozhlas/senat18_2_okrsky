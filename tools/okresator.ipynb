{
 "cells": [
  {
   "cell_type": "code",
   "execution_count": 2,
   "metadata": {},
   "outputs": [],
   "source": [
    "import pandas as pd"
   ]
  },
  {
   "cell_type": "code",
   "execution_count": 10,
   "metadata": {},
   "outputs": [],
   "source": [
    "okr = pd.read_csv('../scratch/cnumnuts.csv', encoding='windows-1250', sep=';') #.set_index('Kod').to_dict(orient='index')"
   ]
  },
  {
   "cell_type": "code",
   "execution_count": 16,
   "metadata": {},
   "outputs": [],
   "source": [
    "okr.NUMNUTS = okr.NUMNUTS.astype('str')"
   ]
  },
  {
   "cell_type": "code",
   "execution_count": 26,
   "metadata": {},
   "outputs": [
    {
     "data": {
      "text/plain": [
       "{'Praha': '1199',\n",
       " 'Benešov': '2101',\n",
       " 'Beroun': '2102',\n",
       " 'Kladno': '2103',\n",
       " 'Kolín': '2104',\n",
       " 'Kutná Hora': '2105',\n",
       " 'Mělník': '2106',\n",
       " 'Mladá Boleslav': '2107',\n",
       " 'Nymburk': '2108',\n",
       " 'Praha-východ': '2109',\n",
       " 'Praha-západ': '2110',\n",
       " 'Příbram': '2111',\n",
       " 'Rakovník': '2112',\n",
       " 'České Budějovice': '3101',\n",
       " 'Český Krumlov': '3102',\n",
       " 'Jindřichův Hradec': '3103',\n",
       " 'Písek': '3104',\n",
       " 'Prachatice': '3105',\n",
       " 'Strakonice': '3106',\n",
       " 'Tábor': '3107',\n",
       " 'Domažlice': '3201',\n",
       " 'Klatovy': '3202',\n",
       " 'Plzeň-město': '3203',\n",
       " 'Plzeň-jih': '3204',\n",
       " 'Plzeň-sever': '3205',\n",
       " 'Rokycany': '3206',\n",
       " 'Tachov': '3207',\n",
       " 'Cheb': '4101',\n",
       " 'Karlovy Vary': '4102',\n",
       " 'Sokolov': '4103',\n",
       " 'Děčín': '4201',\n",
       " 'Chomutov': '4202',\n",
       " 'Litoměřice': '4203',\n",
       " 'Louny': '4204',\n",
       " 'Most': '4205',\n",
       " 'Teplice': '4206',\n",
       " 'Ústí nad Labem': '4207',\n",
       " 'Česká Lípa': '5101',\n",
       " 'Jablonec nad Nisou': '5102',\n",
       " 'Liberec': '5103',\n",
       " 'Semily': '5104',\n",
       " 'Hradec Králové': '5201',\n",
       " 'Jičín': '5202',\n",
       " 'Náchod': '5203',\n",
       " 'Rychnov nad Kněžnou': '5204',\n",
       " 'Trutnov': '5205',\n",
       " 'Chrudim': '5301',\n",
       " 'Pardubice': '5302',\n",
       " 'Svitavy': '5303',\n",
       " 'Ústí nad Orlicí': '5304',\n",
       " 'Havlíčkův Brod': '6101',\n",
       " 'Jihlava': '6102',\n",
       " 'Pelhřimov': '6103',\n",
       " 'Třebíč': '6104',\n",
       " 'Žďár nad Sázavou': '6105',\n",
       " 'Blansko': '6201',\n",
       " 'Brno-město': '6202',\n",
       " 'Brno-venkov': '6203',\n",
       " 'Břeclav': '6204',\n",
       " 'Hodonín': '6205',\n",
       " 'Vyškov': '6206',\n",
       " 'Znojmo': '6207',\n",
       " 'Jeseník': '7101',\n",
       " 'Olomouc': '7102',\n",
       " 'Prostějov': '7103',\n",
       " 'Přerov': '7104',\n",
       " 'Šumperk': '7105',\n",
       " 'Kroměříž': '7201',\n",
       " 'Uherské Hradiště': '7202',\n",
       " 'Vsetín': '7203',\n",
       " 'Zlín': '7204',\n",
       " 'Bruntál': '8101',\n",
       " 'Frýdek-Místek': '8102',\n",
       " 'Karviná': '8103',\n",
       " 'Nový Jičín': '8104',\n",
       " 'Opava': '8105',\n",
       " 'Ostrava-město': '8106'}"
      ]
     },
     "execution_count": 26,
     "metadata": {},
     "output_type": "execute_result"
    }
   ],
   "source": [
    "okr[okr.NUTS.str.len() == 6].set_index('NAZEVNUTS')[['NUMNUTS']].to_dict()['NUMNUTS']"
   ]
  }
 ],
 "metadata": {
  "kernelspec": {
   "display_name": "Python 3",
   "language": "python",
   "name": "python3"
  },
  "language_info": {
   "codemirror_mode": {
    "name": "ipython",
    "version": 3
   },
   "file_extension": ".py",
   "mimetype": "text/x-python",
   "name": "python",
   "nbconvert_exporter": "python",
   "pygments_lexer": "ipython3",
   "version": "3.6.5"
  }
 },
 "nbformat": 4,
 "nbformat_minor": 2
}
